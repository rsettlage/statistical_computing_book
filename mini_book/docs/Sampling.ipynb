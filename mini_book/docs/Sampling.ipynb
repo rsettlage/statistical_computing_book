{
 "cells": [
  {
   "cell_type": "markdown",
   "metadata": {},
   "source": [
    "## Sampling strategies\n",
    "\n",
    "#### Reference\n",
    "\n",
    "[An Introduction to Statistical Computing: A Simulation-based Approach, Jochen Voss](https://www.wiley.com/en-us/An+Introduction+to+Statistical+Computing%3A+A+Simulation+based+Approach-p-9781118357729)"
   ]
  },
  {
   "cell_type": "markdown",
   "metadata": {},
   "source": [
    "We want to look at ways to sample from a distribution. This is useful not only to understand how distributions are sampled in practice in a package such as SciPy but it also helps you to write your own custom distribution should that need arise."
   ]
  },
  {
   "cell_type": "markdown",
   "metadata": {},
   "source": [
    "### Sampling from Discrete Distributions\n",
    "\n",
    "#### Uniform Continuous to Uniform Discrete\n",
    "\n",
    "In order to sample data from a particular distribution we can start with a uniform continuous distribution between 0 and 1 denoted as U[0,1]. The probability of picking a value less than 'a' that is between 0 and 1 is given by \n",
    "\n",
    "$P(x < a) = a$\n",
    "\n",
    "but because there are infinite possibilities between 0 and 1, the probability of picking any particular value 'a' is close to 0.\n",
    "\n",
    "If we have a discrete uniform distribution from 0 to 'n' denoted as U{0,1,...n-1}, this set has 'n' samples and the probability of choosing any discrete value 'a' is \n",
    "\n",
    "$P(x = a) = \\dfrac{1}{n}$\n",
    "\n",
    "since this is a discrete value and there are a finite number of elements in this set. One way to convert this continuous uniform distribution U[0,1] to the discrete distribution U{0,1,...n-1} is through the transformation X = [[n U]] where I have used the notation [[ ]] for rounding the values within to the nearest integer. Now\n",
    "\n",
    "$X \\sim U \\{0,1,...n-1\\}$\n",
    "\n",
    "#### Arbitrary Discrete Distributions\n",
    "\n",
    "To generate an arbitrary distribution, we can use the continuous uniform distribution and sample from it followed by a transform such that we get our desired distribution. In the figure below, we have divided the uniform continuous distribution U[0,1] into uneven lengths given by $p_1, p_2, p_3...p_n$ (here n = 5) such that $\\sum p_i = 1$\n",
    "\n",
    "![Interval Transformation](transformation.png)\n",
    "\n",
    "If we want to sample from a arbitrary discrete set $A = \\{a_1, a_2...a_n\\}$, with probabilities given by $p_1, p_2, p_3...p_n$ all we have to do is sample from the uniform continuous distribution U[0,1] since the interval $i$ will be picked with probability $p_i$ corresponding to the set element $a_i$.\n"
   ]
  },
  {
   "cell_type": "markdown",
   "metadata": {},
   "source": [
    "### The Inverse Transform Method\n",
    "\n",
    "This method uses the Cumulative Distribution Function (CDF) and the inverse of the CDF to generate our desired distribution."
   ]
  },
  {
   "cell_type": "markdown",
   "metadata": {},
   "source": [
    "### Rejection Sampling"
   ]
  },
  {
   "cell_type": "markdown",
   "metadata": {},
   "source": [
    "### Envelope Rejection Sampling"
   ]
  },
  {
   "cell_type": "code",
   "execution_count": null,
   "metadata": {},
   "outputs": [],
   "source": []
  }
 ],
 "metadata": {
  "kernelspec": {
   "display_name": "Python 3",
   "language": "python",
   "name": "python3"
  },
  "language_info": {
   "codemirror_mode": {
    "name": "ipython",
    "version": 3
   },
   "file_extension": ".py",
   "mimetype": "text/x-python",
   "name": "python",
   "nbconvert_exporter": "python",
   "pygments_lexer": "ipython3",
   "version": "3.8.2"
  }
 },
 "nbformat": 4,
 "nbformat_minor": 4
}
