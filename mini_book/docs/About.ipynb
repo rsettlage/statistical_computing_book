{
 "cells": [
  {
   "cell_type": "markdown",
   "metadata": {},
   "source": [
    "## The What, Why and Whom..."
   ]
  },
  {
   "cell_type": "markdown",
   "metadata": {},
   "source": [
    "As mentioned on the front page, the purpose of this series of courses is to teach the basics of Bayesian statistics for the purpose of performing inference. This is *not* intended to be a comprehensive course that teaches the basics of statistics and probability nor does it cover Frequentist statistical techniques based on the Null Hypothesis Significance Testing (NHST). What it does cover is:\n",
    "\n",
    "* The basics of Bayesian probability\n",
    "\n",
    "* Understanding Bayesian inference and how it works\n",
    "\n",
    "* The bare-minimum set of tools and a body of knowledge required to perform Bayesian inference in Python, i.e. the PyData stack of NumPy, Pandas, Scipy, Matplotlib, Seaborn and Plot.ly\n",
    "\n",
    "* A scalable Python-based framework for performing Bayesian inference, i.e. PyMC3\n",
    "\n",
    "With this goal in mind, the content is divided into the following three main sections.\n",
    "\n",
    "* Introduction to Bayesian Statistics\n",
    "\n",
    "* Introduction to Monte Carlo Methods\n",
    "\n",
    "* PyMC3 for Bayesian Modeling and Inference"
   ]
  }
 ],
 "metadata": {
  "kernelspec": {
   "display_name": "Python 3",
   "language": "python",
   "name": "python3"
  },
  "language_info": {
   "codemirror_mode": {
    "name": "ipython",
    "version": 3
   },
   "file_extension": ".py",
   "mimetype": "text/x-python",
   "name": "python",
   "nbconvert_exporter": "python",
   "pygments_lexer": "ipython3",
   "version": "3.8.3"
  }
 },
 "nbformat": 4,
 "nbformat_minor": 4
}
